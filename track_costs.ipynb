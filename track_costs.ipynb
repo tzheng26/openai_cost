{
 "cells": [
  {
   "cell_type": "markdown",
   "metadata": {},
   "source": [
    "# Price calculator\n",
    "\n",
    "This file shows an example of how to calculate the price of openai API calls with our pricing toolkit."
   ]
  },
  {
   "cell_type": "code",
   "execution_count": 29,
   "metadata": {},
   "outputs": [],
   "source": [
    "from utils import get_openai_api_key, get_openai_base_url\n",
    "import openai\n",
    "from pprint import pprint\n",
    "import json\n",
    "from typing import List, Dict, Optional, Any, Union"
   ]
  },
  {
   "cell_type": "code",
   "execution_count": 30,
   "metadata": {},
   "outputs": [],
   "source": [
    "def chat_demo(model: str, messages: List[Dict[str, Any]]) -> Dict[str, Any]:\n",
    "    api_keys = get_openai_api_key()\n",
    "    base_url = get_openai_base_url()\n",
    "\n",
    "    client = openai.OpenAI(api_key=api_keys, base_url=base_url)\n",
    "    response = client.chat.completions.create(model=model, messages=messages)\n",
    "    \n",
    "    return response"
   ]
  },
  {
   "cell_type": "code",
   "execution_count": 35,
   "metadata": {},
   "outputs": [
    {
     "name": "stdout",
     "output_type": "stream",
     "text": [
      "Response:\n",
      "ChatCompletion(id='chatcmpl-AnHWjfrVYkHEzsy0TxcAEb7oraCVT', choices=[Choice(finish_reason='stop', index=0, logprobs=None, message=ChatCompletionMessage(content='Salut, comment vas-tu?', refusal=None, role='assistant', audio=None, function_call=None, tool_calls=None))], created=1736308809, model='gpt-3.5-turbo-0125', object='chat.completion', service_tier=None, system_fingerprint='fp_0165350fbb', usage=CompletionUsage(completion_tokens=8, prompt_tokens=22, total_tokens=30, completion_tokens_details=None, prompt_tokens_details=None))\n",
      "{'choices': [{'finish_reason': 'stop',\n",
      "              'index': 0,\n",
      "              'logprobs': None,\n",
      "              'message': {'content': 'Salut, comment vas-tu?',\n",
      "                          'role': 'assistant'}}],\n",
      " 'created': 1736308809,\n",
      " 'id': 'chatcmpl-AnHWjfrVYkHEzsy0TxcAEb7oraCVT',\n",
      " 'model': 'gpt-3.5-turbo-0125',\n",
      " 'object': 'chat.completion',\n",
      " 'system_fingerprint': 'fp_0165350fbb',\n",
      " 'usage': {'completion_tokens': 8, 'prompt_tokens': 22, 'total_tokens': 30}}\n"
     ]
    }
   ],
   "source": [
    "\n",
    "model = \"gpt-3.5-turbo\"\n",
    "message = [\n",
    "    {\n",
    "        \"role\": \"user\",\n",
    "        \"content\": \"Translate the following English text to French: 'Hello, how are you?'\",\n",
    "    }\n",
    "]\n",
    "\n",
    "response = chat_demo(model=model, messages=message)\n",
    "\n",
    "print(f\"Response:\\n{response}\")\n",
    "pprint(response.to_dict())"
   ]
  },
  {
   "cell_type": "code",
   "execution_count": 36,
   "metadata": {},
   "outputs": [
    {
     "name": "stdout",
     "output_type": "stream",
     "text": [
      "The total cost for using gpt-3.5-turbo-0125 is $0.00000\n"
     ]
    },
    {
     "data": {
      "text/plain": [
       "0.0"
      ]
     },
     "execution_count": 36,
     "metadata": {},
     "output_type": "execute_result"
    }
   ],
   "source": [
    "\n",
    "def track_costs(response: openai.ChatCompletion) -> Dict[str, Any]:\n",
    "    # load price data: $/1k tokens\n",
    "    with open('price_usd_per_1k_tokens.json') as f:\n",
    "        price = json.load(f)\n",
    "\n",
    "    model_name = response.model\n",
    "    usage = response.usage.to_dict()\n",
    "\n",
    "    model_price = price.get(model_name, {})\n",
    "    input_cost = (\n",
    "        model_price.get(\"input_tokens\", 0) * usage.get(\"prompt_tokens\", 0) / 1000\n",
    "    )\n",
    "    output_cost = (\n",
    "        model_price.get(\"output_tokens\", 0) * usage.get(\"completion_tokens\", 0) / 1000\n",
    "    )\n",
    "    total_cost = input_cost + output_cost\n",
    "\n",
    "    print(f\"The total cost for using {model_name} is ${total_cost:.5f}\")\n",
    "    return total_cost\n",
    "\n",
    "track_costs(response)"
   ]
  }
 ],
 "metadata": {
  "kernelspec": {
   "display_name": "WIP_DL_Fuzzing",
   "language": "python",
   "name": "python3"
  },
  "language_info": {
   "codemirror_mode": {
    "name": "ipython",
    "version": 3
   },
   "file_extension": ".py",
   "mimetype": "text/x-python",
   "name": "python",
   "nbconvert_exporter": "python",
   "pygments_lexer": "ipython3",
   "version": "3.11.11"
  }
 },
 "nbformat": 4,
 "nbformat_minor": 2
}
