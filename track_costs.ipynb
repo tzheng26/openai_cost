{
 "cells": [
  {
   "cell_type": "markdown",
   "metadata": {},
   "source": [
    "# Price calculator\n",
    "\n",
    "This file shows an example of how to calculate the price of openai API calls."
   ]
  },
  {
   "cell_type": "code",
   "execution_count": 18,
   "metadata": {},
   "outputs": [],
   "source": [
    "from utils import get_openai_api_key, get_openai_base_url\n",
    "import openai\n",
    "from pprint import pprint\n",
    "import json\n",
    "from typing import List, Dict, Optional, Any, Union"
   ]
  },
  {
   "cell_type": "code",
   "execution_count": 19,
   "metadata": {},
   "outputs": [],
   "source": [
    "def chat_demo(model: str, messages: List[Dict[str, Any]]) -> Dict[str, Any]:\n",
    "    api_keys = get_openai_api_key()\n",
    "    base_url = get_openai_base_url()\n",
    "\n",
    "    client = openai.OpenAI(api_key=api_keys, base_url=base_url)\n",
    "    response = client.chat.completions.create(model=model, messages=messages)\n",
    "    \n",
    "    return response"
   ]
  },
  {
   "cell_type": "code",
   "execution_count": null,
   "metadata": {},
   "outputs": [],
   "source": [
    "\n",
    "model = \"gpt-3.5-turbo\"\n",
    "message = [\n",
    "    {\n",
    "        \"role\": \"user\",\n",
    "        \"content\": \"Translate the following English text to French: 'Hello, how are you?'\",\n",
    "    }\n",
    "]\n",
    "\n",
    "response = chat_demo(model=model, messages=message)\n",
    "response_list = []\n",
    "response_list.append(response)\n",
    "\n",
    "print(f\"Response:\\n{response}\")\n",
    "pprint(response.to_dict())"
   ]
  },
  {
   "cell_type": "code",
   "execution_count": null,
   "metadata": {},
   "outputs": [],
   "source": [
    "# load price data: $/1k tokens\n",
    "with open('price_usd_per_1k_tokens.json') as f:\n",
    "    price = json.load(f)\n",
    "\n",
    "print(type(price))"
   ]
  },
  {
   "cell_type": "code",
   "execution_count": null,
   "metadata": {},
   "outputs": [],
   "source": [
    "\n",
    "def calculate_response_costs(price_list: dict, response: openai.ChatCompletion):\n",
    "    \"\"\"\n",
    "    Calculate the cost of a single response from OpenAI's API.\n",
    "    Note: The costs could be all zeros if the number of tokens is very low.\n",
    "    \"\"\"\n",
    "    price = price_list    \n",
    "\n",
    "    model_name = response.model\n",
    "    usage = response.usage.to_dict()\n",
    "\n",
    "    model_price = price.get(model_name, {})\n",
    "    input_cost = (\n",
    "        model_price.get(\"input_tokens\", 0) * usage.get(\"prompt_tokens\", 0) / 1000\n",
    "    )\n",
    "    output_cost = (\n",
    "        model_price.get(\"output_tokens\", 0) * usage.get(\"completion_tokens\", 0) / 1000\n",
    "    )\n",
    "    total_cost = input_cost + output_cost\n",
    "\n",
    "    # print(f\"The total cost for using {model_name} is ${total_cost:.5f}\")\n",
    "    return input_cost, output_cost, total_cost\n",
    "\n",
    "calculate_response_costs(price, response)"
   ]
  },
  {
   "cell_type": "code",
   "execution_count": null,
   "metadata": {},
   "outputs": [],
   "source": [
    "def calculate_total_tokens(responses: list) -> Dict[str, Dict[str, int]]:\n",
    "    \"\"\"\n",
    "    Calculate the total tokens used for each model in the responses.\n",
    "    \"\"\"\n",
    "    total_tokens = {}\n",
    "\n",
    "    for response in responses:\n",
    "        model_name = response.model\n",
    "        usage = response.usage.to_dict()\n",
    "\n",
    "        if model_name not in total_tokens:\n",
    "            total_tokens[model_name] = {\"input_tokens\": 0, \"output_tokens\": 0}\n",
    "\n",
    "        total_tokens[model_name][\"input_tokens\"] += usage.get(\"prompt_tokens\", 0)\n",
    "        total_tokens[model_name][\"output_tokens\"] += usage.get(\"completion_tokens\", 0)\n",
    "        total_tokens[model_name][\"total_tokens\"] = (\n",
    "            total_tokens[model_name][\"input_tokens\"] + total_tokens[model_name][\"output_tokens\"]\n",
    "        )\n",
    "\n",
    "    return total_tokens\n",
    "\n",
    "calculate_total_tokens(response_list)"
   ]
  },
  {
   "cell_type": "code",
   "execution_count": null,
   "metadata": {},
   "outputs": [],
   "source": [
    "def calculate_total_costs(price_list: dict, responses: list) -> Dict[str, float]:\n",
    "    \"\"\"\n",
    "    Calculate the total costs for each model in the responses.\n",
    "    \"\"\"\n",
    "    total_tokens = calculate_total_tokens(responses)\n",
    "    total_costs = {}\n",
    "\n",
    "    for model_name, tokens in total_tokens.items():\n",
    "        model_price = price_list.get(model_name, {})\n",
    "        input_cost = model_price.get(\"input_tokens\", 0) * tokens[\"input_tokens\"] / 1000\n",
    "        output_cost = model_price.get(\"output_tokens\", 0) * tokens[\"output_tokens\"] / 1000\n",
    "        total_costs[model_name] = input_cost + output_cost\n",
    "\n",
    "    return total_costs\n",
    "\n",
    "calculate_total_costs(price, response_list)"
   ]
  }
 ],
 "metadata": {
  "kernelspec": {
   "display_name": "WIP_DL_Fuzzing",
   "language": "python",
   "name": "python3"
  },
  "language_info": {
   "codemirror_mode": {
    "name": "ipython",
    "version": 3
   },
   "file_extension": ".py",
   "mimetype": "text/x-python",
   "name": "python",
   "nbconvert_exporter": "python",
   "pygments_lexer": "ipython3",
   "version": "3.11.11"
  }
 },
 "nbformat": 4,
 "nbformat_minor": 2
}
